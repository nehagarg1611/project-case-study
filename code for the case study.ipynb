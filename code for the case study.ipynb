{
 "cells": [
  {
   "cell_type": "markdown",
   "id": "dc9a275e",
   "metadata": {},
   "source": [
    "# Question_1: "
   ]
  },
  {
   "cell_type": "code",
   "execution_count": 1,
   "id": "4dd27f4d",
   "metadata": {},
   "outputs": [],
   "source": [
    "import pandas as pd\n",
    "import matplotlib.pyplot as plt\n"
   ]
  },
  {
   "cell_type": "code",
   "execution_count": 27,
   "id": "a894aea6",
   "metadata": {},
   "outputs": [
    {
     "name": "stdout",
     "output_type": "stream",
     "text": [
      "\n",
      "Bangalore 635\n",
      "Mumbai 449\n",
      "New Delhi 389\n",
      "Gurgaon 241\n",
      "Pune 91\n",
      "Noida 79\n",
      "Hyderabad 77\n",
      "Chennai 67\n",
      "Ahmedabad 35\n",
      "Jaipur 25\n"
     ]
    },
    {
     "data": {
      "image/png": "[encoded data removed]",
      "text/plain": [
       "<Figure size 432x288 with 1 Axes>"
      ]
     },
     "metadata": {
      "needs_background": "light"
     },
     "output_type": "display_data"
    }
   ],
   "source": [
    "def fun(s): \n",
    "    li=[ele.strip() for ele in s.split('/')] \n",
    "    return li[0]\n",
    "df=pd.read_csv('startup_funding.csv',delimiter=',',skipinitialspace=True) \n",
    "df.dropna(subset=['CityLocation'],inplace=True) \n",
    "df['CityLocation']=df['CityLocation'].apply(fun)\n",
    "df['CityLocation'].replace('Delhi','New Delhi',inplace=True)\n",
    "df['CityLocation'].replace('bangalore','Bangalore',inplace=True)\n",
    "d=df['CityLocation'].value_counts()[0:10]\n",
    "print()\n",
    "x=d.index\n",
    "y=d.values\n",
    "for i in range(10):\n",
    "    print(x[i],y[i])\n",
    "plt.bar(x,y,width=0.4)\n",
    "plt.xticks(rotation=60)\n",
    "plt.show()"
   ]
  },
  {
   "cell_type": "markdown",
   "id": "9e6e2437",
   "metadata": {},
   "source": [
    "# Question 2:"
   ]
  },
  {
   "cell_type": "code",
   "execution_count": 30,
   "id": "0b8158a5",
   "metadata": {},
   "outputs": [
    {
     "name": "stdout",
     "output_type": "stream",
     "text": [
      "Sequoia Capital\n",
      "Accel Partners\n",
      "Kalaari Capital\n",
      "SAIF Partners\n",
      "Blume Ventures\n"
     ]
    }
   ],
   "source": [
    "import pandas as pd\n",
    "import matplotlib.pyplot as plt\n",
    "\n",
    "def striper(s):\n",
    "    y=[x.strip() for x in s]\n",
    "    lc=[f for f in y if len(f)>0]\n",
    "    return lc\n",
    "    \n",
    "df=pd.read_csv('startup_funding.csv')\n",
    "df['InvestorsName'].replace(['Undisclosed Investors','Undisclosed investors'],None,inplace=True)\n",
    "df.dropna(subset=['InvestorsName'],inplace=True)\n",
    "df['InvestorsName']=df['InvestorsName'].str.split(',')\n",
    "df['InvestorsName']=df['InvestorsName'].apply(striper)\n",
    "s=df['InvestorsName'].copy()\n",
    "s = s.apply(pd.Series).stack().reset_index(drop = True)\n",
    "af=s.value_counts()\n",
    "\n",
    "for y in range(5):\n",
    " print(af.index[y])"
   ]
  },
  {
   "cell_type": "markdown",
   "id": "f6d85fe4",
   "metadata": {},
   "source": [
    "# Question 3:"
   ]
  },
  {
   "cell_type": "code",
   "execution_count": 32,
   "id": "90adbee0",
   "metadata": {},
   "outputs": [
    {
     "name": "stdout",
     "output_type": "stream",
     "text": [
      "Accel Partners\n",
      "Sequoia Capital\n",
      "Kalaari Capital\n",
      "Indian Angel Network\n",
      "Blume Ventures\n"
     ]
    }
   ],
   "source": [
    "import pandas as pd\n",
    "import matplotlib.pyplot as plt\n",
    "import numpy as np\n",
    "def striper(s):\n",
    "    y=[x.strip() for x in s]\n",
    "    res=[]\n",
    "    for x in range(len(y)-1):\n",
    "       if len(y[x])>0: \n",
    "        res.append(y[x]+'|'+y[len(y)-1])\n",
    "    return res\n",
    "\n",
    "def firster(s):\n",
    "    y=s.split('|')\n",
    "    return y[0]\n",
    "\n",
    "\n",
    "df=pd.read_csv('startup_funding.csv')\n",
    "df['InvestorsName'].replace(['Undisclosed Investors','Undisclosed investors'],None,inplace=True)\n",
    "df.dropna(subset=['InvestorsName','StartupName'],inplace=True)\n",
    "df['StartupName'] = df['StartupName'].str.lower()\n",
    "df['StartupName'].replace(['flipkart.com','flipkart'],'Flipkart',inplace=True)\n",
    "df['StartupName'].replace(['oyo rooms','oyorooms','oyo'],'Oyo',inplace=True)\n",
    "\n",
    "df['StartupName'].replace(['ola','ola cabs','olacabs'],'Ola',inplace=True)\n",
    "\n",
    "df['StartupName'].replace(['paytm marketplace','paytm'],'Paytm',inplace=True)\n",
    "df['StartupName'].replace('snapdeal','Snapdeal',inplace=True)\n",
    "df['StartupName'] = df['StartupName'].str.title()\n",
    "df['StartupName'].replace('Urbanclap','UrbanClap',inplace=True)\n",
    "\n",
    "df['INB']=df['InvestorsName'].str.cat(df['StartupName'], sep =\",\")\n",
    "df['INB']=df['INB'].str.split(',')\n",
    "df['INB']=df['INB'].apply(striper)\n",
    "s=df['INB'].copy()\n",
    "s = s.apply(pd.Series).stack().reset_index(drop = True)\n",
    "af=s.value_counts()\n",
    "li=[]\n",
    "for x in af.index:\n",
    "    li.append(x)\n",
    "se=np.array(li)\n",
    "se=np.unique(se)\n",
    "sd=pd.Series(se)\n",
    "sd=sd.apply(firster)\n",
    "kf=sd.value_counts()\n",
    "for y in range(5):\n",
    "    print(kf.index[y])"
   ]
  },
  {
   "cell_type": "markdown",
   "id": "2935fa4f",
   "metadata": {},
   "source": [
    "# Question 4: "
   ]
  },
  {
   "cell_type": "code",
   "execution_count": 33,
   "id": "973e5f31",
   "metadata": {},
   "outputs": [
    {
     "name": "stdout",
     "output_type": "stream",
     "text": [
      "Indian Angel Network        33\n",
      "Rajan Anandan               24\n",
      "LetsVenture                 16\n",
      "Anupam Mittal               16\n",
      "Group of Angel Investors    14\n",
      "Kunal Shah                  14\n",
      "dtype: int64\n"
     ]
    }
   ],
   "source": [
    "import pandas as pd\n",
    "import matplotlib.pyplot as plt\n",
    "import numpy as np\n",
    "def striper(s):\n",
    "    y=[x.strip() for x in s]\n",
    "    res=[]\n",
    "    for x in range(len(y)-1):\n",
    "        if len(y[x])>0:\n",
    "         res.append(y[x]+'|'+y[len(y)-1])\n",
    "    return res\n",
    "\n",
    "def firster(s):\n",
    "    y=s.split('|')\n",
    "    return y[0]\n",
    "\n",
    "\n",
    "df=pd.read_csv('startup_funding.csv')\n",
    "\n",
    "df.dropna(subset=['InvestorsName','StartupName'],inplace=True)\n",
    "\n",
    "\n",
    "df['InvestmentType'].replace(['SeedFunding'],'Seed Funding',inplace=True)\n",
    "df['InvestmentType'].replace(['PrivateEquity'],'Private Equity',inplace=True)\n",
    "df['InvestmentType'].replace(['Crowd funding'],'Crowd Funding',inplace=True)\n",
    "df['InvestmentType'].replace(['SeedFunding'],'Seed Funding',inplace=True)\n",
    "df['InvestorsName'].replace(['Undisclosed Investors','Undisclosed investors'],None,inplace=True)\n",
    "df.dropna(subset=['InvestorsName'],inplace=True)\n",
    "df=df[(df['InvestmentType']=='Crowd Funding') | (df['InvestmentType']=='Seed Funding')]\n",
    "df['StartupName'] = df['StartupName'].str.lower()\n",
    "df['StartupName'].replace(['flipkart.com','flipkart'],'Flipkart',inplace=True)\n",
    "df['StartupName'].replace(['oyo rooms','oyorooms','oyo'],'Oyo',inplace=True)\n",
    "\n",
    "df['StartupName'].replace(['ola','ola cabs','olacabs'],'Ola',inplace=True)\n",
    "\n",
    "df['StartupName'].replace(['paytm marketplace','paytm'],'Paytm',inplace=True)\n",
    "df['StartupName'].replace('snapdeal','Snapdeal',inplace=True)\n",
    "df['StartupName'] = df['StartupName'].str.title()\n",
    "df['StartupName'].replace('Urbanclap','UrbanClap',inplace=True)\n",
    "\n",
    "df['INB']=df['InvestorsName'].str.cat(df['StartupName'], sep =\",\")\n",
    "df['INB']=df['INB'].str.split(',')\n",
    "df['INB']=df['INB'].apply(striper)\n",
    "s=df['INB'].copy()\n",
    "s = s.apply(pd.Series).stack().reset_index(drop = True)\n",
    "af=s.value_counts()\n",
    "li=[]\n",
    "for x in af.index:\n",
    "    li.append(x)\n",
    "se=np.array(li)\n",
    "se=np.unique(se)\n",
    "sd=pd.Series(se)\n",
    "sd=sd.apply(firster)\n",
    "kf=sd.value_counts()\n",
    "print(kf[:6])"
   ]
  },
  {
   "cell_type": "markdown",
   "id": "9854283f",
   "metadata": {},
   "source": [
    "# Question 5"
   ]
  },
  {
   "cell_type": "code",
   "execution_count": 34,
   "id": "e7c2caec",
   "metadata": {},
   "outputs": [
    {
     "name": "stdout",
     "output_type": "stream",
     "text": [
      "Accel Partners\n",
      "Sequoia Capital\n",
      "Kalaari Capital\n",
      "Blume Ventures\n",
      "SAIF Partners\n"
     ]
    }
   ],
   "source": [
    "import pandas as pd\n",
    "import matplotlib.pyplot as plt\n",
    "import numpy as np\n",
    "def striper(s):\n",
    "    y=[x.strip() for x in s]\n",
    "    res=[]\n",
    "    for x in range(len(y)-1):\n",
    "        if len(y[x])>0:\n",
    "         res.append(y[x]+'|'+y[len(y)-1])\n",
    "    return res\n",
    "\n",
    "def firster(s):\n",
    "    y=s.split('|')\n",
    "    return y[0]\n",
    "\n",
    "\n",
    "df=pd.read_csv('startup_funding.csv')\n",
    "df['InvestorsName'].replace(['Undisclosed Investors','Undisclosed investors'],None,inplace=True)\n",
    "df.dropna(subset=['InvestorsName','StartupName'],inplace=True)\n",
    "\n",
    "\n",
    "df['InvestmentType'].replace(['SeedFunding'],'Seed Funding',inplace=True)\n",
    "df['InvestmentType'].replace(['PrivateEquity'],'Private Equity',inplace=True)\n",
    "df['InvestmentType'].replace(['Crowd funding'],'Crowd Funding',inplace=True)\n",
    "df['InvestmentType'].replace(['SeedFunding'],'Seed Funding',inplace=True)\n",
    "\n",
    "df=df[(df['InvestmentType']=='Private Equity')]\n",
    "df['StartupName'] = df['StartupName'].str.lower()\n",
    "df['StartupName'].replace(['flipkart.com','flipkart'],'Flipkart',inplace=True)\n",
    "df['StartupName'].replace(['oyo rooms','oyorooms','oyo'],'Oyo',inplace=True)\n",
    "\n",
    "df['StartupName'].replace(['ola','ola cabs','olacabs'],'Ola',inplace=True)\n",
    "\n",
    "df['StartupName'].replace(['paytm marketplace','paytm'],'Paytm',inplace=True)\n",
    "df['StartupName'].replace('snapdeal','Snapdeal',inplace=True)\n",
    "df['StartupName'] = df['StartupName'].str.title()\n",
    "df['StartupName'].replace('Urbanclap','UrbanClap',inplace=True)\n",
    "\n",
    "df['INB']=df['InvestorsName'].str.cat(df['StartupName'], sep =\",\")\n",
    "df['INB']=df['INB'].str.split(',')\n",
    "df['INB']=df['INB'].apply(striper)\n",
    "s=df['INB'].copy()\n",
    "s = s.apply(pd.Series).stack().reset_index(drop = True)\n",
    "af=s.value_counts()\n",
    "li=[]\n",
    "for x in af.index:\n",
    "    li.append(x)\n",
    "se=np.array(li)\n",
    "se=np.unique(se)\n",
    "sd=pd.Series(se)\n",
    "sd=sd.apply(firster)\n",
    "kf=sd.value_counts()\n",
    "for x in kf.index[:5]:\n",
    "    print(x)"
   ]
  },
  {
   "cell_type": "code",
   "execution_count": null,
   "id": "757aa035",
   "metadata": {},
   "outputs": [],
   "source": []
  }
 ],
 "metadata": {
  "kernelspec": {
   "display_name": "Python 3",
   "language": "python",
   "name": "python3"
  },
  "language_info": {
   "codemirror_mode": {
    "name": "ipython",
    "version": 3
   },
   "file_extension": ".py",
   "mimetype": "text/x-python",
   "name": "python",
   "nbconvert_exporter": "python",
   "pygments_lexer": "ipython3",
   "version": "3.8.8"
  }
 },
 "nbformat": 4,
 "nbformat_minor": 5
}
